{
 "cells": [
  {
   "cell_type": "code",
   "execution_count": 6,
   "metadata": {},
   "outputs": [],
   "source": [
    "import import_nbmodule"
   ]
  },
  {
   "cell_type": "code",
   "execution_count": 3,
   "metadata": {},
   "outputs": [
    {
     "name": "stdout",
     "output_type": "stream",
     "text": [
      "importing Jupyter notebook from F:\\yang7003@umn\\NMRC_umn\\Codes\\import_nbmodule\\examples\\demo_insidePackage\\insidePackage\\insidemynb1.ipynb\n",
      "importing Jupyter notebook from F:\\yang7003@umn\\NMRC_umn\\Codes\\import_nbmodule\\examples\\demo_insidePackage\\insidePackage\\subpackage\\insidemynb2.ipynb\n"
     ]
    }
   ],
   "source": [
    "# load inside packages\n",
    "from insidePackage import insidemynb1\n",
    "from insidePackage.subpackage import insidemynb2\n"
   ]
  },
  {
   "cell_type": "code",
   "execution_count": 4,
   "metadata": {},
   "outputs": [
    {
     "name": "stdout",
     "output_type": "stream",
     "text": [
      ".\\insidePackage\\insidemynb1.ipynb: foo function\n",
      ".\\insidePackage\\subpackage\\insidemynb2.ipynb: foo function\n"
     ]
    }
   ],
   "source": [
    "insidemynb1.foo()\n",
    "insidemynb2.foo()"
   ]
  }
 ],
 "metadata": {
  "kernelspec": {
   "display_name": "Python 3",
   "language": "python",
   "name": "python3"
  },
  "language_info": {
   "codemirror_mode": {
    "name": "ipython",
    "version": 3
   },
   "file_extension": ".py",
   "mimetype": "text/x-python",
   "name": "python",
   "nbconvert_exporter": "python",
   "pygments_lexer": "ipython3",
   "version": "3.7.3"
  }
 },
 "nbformat": 4,
 "nbformat_minor": 2
}
