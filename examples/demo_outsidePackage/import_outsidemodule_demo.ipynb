{
 "cells": [
  {
   "cell_type": "code",
   "execution_count": 1,
   "metadata": {},
   "outputs": [],
   "source": [
    "import import_nbmodule"
   ]
  },
  {
   "cell_type": "code",
   "execution_count": 5,
   "metadata": {},
   "outputs": [
    {
     "name": "stdout",
     "output_type": "stream",
     "text": [
      "outsidePackage\\outsidemynb1.ipynb: foo function\n",
      "\\outsidePackage\\subpackage\\outsidemynb2.ipynb: foo function\n"
     ]
    }
   ],
   "source": [
    "# add module folder\n",
    "import os, sys\n",
    "modulefolder = os.path.abspath(os.path.join('..'))\n",
    "sys.path.append(modulefolder)\n",
    "\n",
    "# import the outsidemynb1 and outsidemynb2 modules\n",
    "from outsidePackage import outsidemynb1\n",
    "from outsidePackage.subpackage import outsidemynb2\n",
    "\n",
    "\n",
    "outsidemynb1.foo()\n",
    "outsidemynb2.foo()"
   ]
  }
 ],
 "metadata": {
  "kernelspec": {
   "display_name": "Python 3",
   "language": "python",
   "name": "python3"
  },
  "language_info": {
   "codemirror_mode": {
    "name": "ipython",
    "version": 3
   },
   "file_extension": ".py",
   "mimetype": "text/x-python",
   "name": "python",
   "nbconvert_exporter": "python",
   "pygments_lexer": "ipython3",
   "version": "3.7.3"
  }
 },
 "nbformat": 4,
 "nbformat_minor": 2
}
